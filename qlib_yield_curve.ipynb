{
 "cells": [
  {
   "cell_type": "code",
   "execution_count": null,
   "metadata": {},
   "outputs": [],
   "source": [
    "import QuantLib as ql\n",
    "\n",
    "calculation_date = ql.Date(15, 1, 2024)\n",
    "ql.Settings.instance().evaluationDate = calculation_date"
   ]
  },
  {
   "cell_type": "code",
   "execution_count": null,
   "metadata": {},
   "outputs": [],
   "source": [
    "dates = [ql.Date(15, 1, 2024), ql.Date(15, 7, 2024), ql.Date(15, 1, 2025), ql.Date(15, 1, 2026)]\n",
    "rates = [0.04, 0.045, 0.05, 0.055]"
   ]
  },
  {
   "cell_type": "code",
   "execution_count": null,
   "metadata": {},
   "outputs": [],
   "source": [
    "day_count = ql.Actual365Fixed()\n",
    "calendar = ql.TARGET()\n",
    "interpolation = ql.Linear()\n",
    "\n",
    "yield_curve = ql.ZeroCurve(dates, rates, day_count, calendar, interpolation)"
   ]
  },
  {
   "cell_type": "code",
   "execution_count": null,
   "metadata": {},
   "outputs": [],
   "source": [
    "yield_curve_handle = ql.YieldTermStructureHandle(yield_curve)"
   ]
  },
  {
   "cell_type": "code",
   "execution_count": null,
   "metadata": {},
   "outputs": [],
   "source": [
    "target_date = ql.Date(15, 1, 2025)\n",
    "zero_rate = yield_curve_handle.zeroRate(target_date, day_count, ql.Continuous).rate()\n",
    "discount_factor = yield_curve_handle.discount(target_date)\n",
    "\n",
    "print(f\"Zero rate for {target_date}: {zero_rate:.4%}\")\n",
    "print(f\"Discount factor for {target_date}: {discount_factor:.4f}\")"
   ]
  }
 ],
 "metadata": {
  "kernelspec": {
   "display_name": ".venv",
   "language": "python",
   "name": "python3"
  },
  "language_info": {
   "name": "python",
   "version": "3.12.0"
  }
 },
 "nbformat": 4,
 "nbformat_minor": 2
}
